{
 "cells": [
  {
   "cell_type": "code",
   "execution_count": 1,
   "id": "59ea0bd1-0b79-40fa-a124-e4c17f1b1dc4",
   "metadata": {},
   "outputs": [
    {
     "name": "stdout",
     "output_type": "stream",
     "text": [
      "Found existing installation: numpy 1.23.5\n",
      "Uninstalling numpy-1.23.5:\n",
      "  Successfully uninstalled numpy-1.23.5\n"
     ]
    }
   ],
   "source": [
    "# 기존에 설치된 numpy(수학 계산 라이브러리) 버전을 제거합니다.\n",
    "# 시스템에서 호환성을 위해 특정 버전이 필요할 수 있기 때문입니다.\n",
    "!pip uninstall numpy -y"
   ]
  },
  {
   "cell_type": "code",
   "execution_count": 2,
   "id": "e6c2f7e4-c9aa-4c6e-a604-0c51af4889ec",
   "metadata": {},
   "outputs": [
    {
     "name": "stdout",
     "output_type": "stream",
     "text": [
      "Collecting numpy==1.23.5\n",
      "  Using cached numpy-1.23.5-cp310-cp310-win_amd64.whl.metadata (2.3 kB)\n",
      "Using cached numpy-1.23.5-cp310-cp310-win_amd64.whl (14.6 MB)\n",
      "Installing collected packages: numpy\n",
      "Successfully installed numpy-1.23.5\n"
     ]
    }
   ],
   "source": [
    "# numpy 라이브러리를 특정 버전(1.23.5)으로 다시 설치합니다.\n",
    "# 특정 기능이나 호환성을 위해 이 버전이 필요합니다.\n",
    "!pip install numpy==1.23.5"
   ]
  },
  {
   "cell_type": "code",
   "execution_count": 3,
   "id": "91ba7186-7c55-4849-b518-00917287ba63",
   "metadata": {},
   "outputs": [
    {
     "name": "stdout",
     "output_type": "stream",
     "text": [
      "Requirement already satisfied: selenium in c:\\programdata\\anaconda3\\envs\\movie_env01\\lib\\site-packages (4.27.1)\n",
      "Requirement already satisfied: urllib3<3,>=1.26 in c:\\programdata\\anaconda3\\envs\\movie_env01\\lib\\site-packages (from urllib3[socks]<3,>=1.26->selenium) (2.3.0)\n",
      "Requirement already satisfied: trio~=0.17 in c:\\programdata\\anaconda3\\envs\\movie_env01\\lib\\site-packages (from selenium) (0.27.0)\n",
      "Requirement already satisfied: trio-websocket~=0.9 in c:\\programdata\\anaconda3\\envs\\movie_env01\\lib\\site-packages (from selenium) (0.11.1)\n",
      "Requirement already satisfied: certifi>=2021.10.8 in c:\\programdata\\anaconda3\\envs\\movie_env01\\lib\\site-packages (from selenium) (2024.12.14)\n",
      "Requirement already satisfied: typing_extensions~=4.9 in c:\\programdata\\anaconda3\\envs\\movie_env01\\lib\\site-packages (from selenium) (4.12.2)\n",
      "Requirement already satisfied: websocket-client~=1.8 in c:\\programdata\\anaconda3\\envs\\movie_env01\\lib\\site-packages (from selenium) (1.8.0)\n",
      "Requirement already satisfied: attrs>=23.2.0 in c:\\programdata\\anaconda3\\envs\\movie_env01\\lib\\site-packages (from trio~=0.17->selenium) (24.3.0)\n",
      "Requirement already satisfied: sortedcontainers in c:\\programdata\\anaconda3\\envs\\movie_env01\\lib\\site-packages (from trio~=0.17->selenium) (2.4.0)\n",
      "Requirement already satisfied: idna in c:\\programdata\\anaconda3\\envs\\movie_env01\\lib\\site-packages (from trio~=0.17->selenium) (3.10)\n",
      "Requirement already satisfied: outcome in c:\\programdata\\anaconda3\\envs\\movie_env01\\lib\\site-packages (from trio~=0.17->selenium) (1.3.0.post0)\n",
      "Requirement already satisfied: sniffio>=1.3.0 in c:\\programdata\\anaconda3\\envs\\movie_env01\\lib\\site-packages (from trio~=0.17->selenium) (1.3.1)\n",
      "Requirement already satisfied: cffi>=1.14 in c:\\programdata\\anaconda3\\envs\\movie_env01\\lib\\site-packages (from trio~=0.17->selenium) (1.17.1)\n",
      "Requirement already satisfied: exceptiongroup in c:\\programdata\\anaconda3\\envs\\movie_env01\\lib\\site-packages (from trio~=0.17->selenium) (1.2.2)\n",
      "Requirement already satisfied: wsproto>=0.14 in c:\\programdata\\anaconda3\\envs\\movie_env01\\lib\\site-packages (from trio-websocket~=0.9->selenium) (1.2.0)\n",
      "Requirement already satisfied: pysocks!=1.5.7,<2.0,>=1.5.6 in c:\\programdata\\anaconda3\\envs\\movie_env01\\lib\\site-packages (from urllib3[socks]<3,>=1.26->selenium) (1.7.1)\n",
      "Requirement already satisfied: pycparser in c:\\programdata\\anaconda3\\envs\\movie_env01\\lib\\site-packages (from cffi>=1.14->trio~=0.17->selenium) (2.22)\n",
      "Requirement already satisfied: h11<1,>=0.9.0 in c:\\programdata\\anaconda3\\envs\\movie_env01\\lib\\site-packages (from wsproto>=0.14->trio-websocket~=0.9->selenium) (0.14.0)\n"
     ]
    }
   ],
   "source": [
    "# selenium(웹 브라우저 자동화 라이브러리)을 설치합니다.\n",
    "# 이 라이브러리를 사용하면 사람이 브라우저에서 수행하는 작업을 코드로 자동화할 수 있습니다.\n",
    "!pip install selenium"
   ]
  },
  {
   "cell_type": "code",
   "execution_count": 4,
   "id": "ba251a87-e3a3-4213-8d7c-d10d4725ae84",
   "metadata": {},
   "outputs": [],
   "source": [
    "# 필요한 라이브러리 불러오기 단계\n",
    "# selenium: 브라우저 자동화를 위한 라이브러리\n",
    "from selenium import webdriver\n",
    "# BeautifulSoup: HTML 분석을 위한 라이브러리\n",
    "from bs4 import BeautifulSoup\n",
    "# selenium의 By: HTML 요소를 찾는 데 사용됩니다.\n",
    "from selenium.webdriver.common.by import By \n",
    "# selenium의 Options: 브라우저 옵션 설정을 위한 라이브러리\n",
    "from selenium.webdriver.chrome.options import Options\n",
    "# time: 코드 실행 중 지연을 추가하기 위한 라이브러리\n",
    "import time\n",
    "# re: 정규 표현식을 사용하여 문자열을 처리하기 위한 라이브러리\n",
    "import re"
   ]
  },
  {
   "cell_type": "code",
   "execution_count": 5,
   "id": "afa38382-753b-498b-9c85-a039fea11fde",
   "metadata": {},
   "outputs": [],
   "source": [
    "# 크롬 드라이버의 옵션을 설정하는 객체 생성\n",
    "chrome_options = Options()\n",
    "# 브라우저가 자동으로 닫히지 않도록 설정\n",
    "chrome_options.add_experimental_option(\"detach\", True)\n",
    "\n",
    "# 크롬 드라이버에 옵션 설정 적용\n",
    "# (브라우저를 띄우고 자동화를 시작합니다.)\n",
    "driver = webdriver.Chrome(options=chrome_options)\n",
    "\n",
    "# 네이버 영화 검색 사이트 URL 설정\n",
    "url = 'https://search.naver.com/search.naver?where=nexearch&sm=top_hty&fbm=1&ie=utf8&query=%EC%98%81%ED%99%94'\n",
    "\n",
    "# 페이지가 로딩될 때 최대 10초까지 기다리도록 설정\n",
    "# 브라우저가 느린 경우를 대비한 안전 장치입니다.\n",
    "driver.implicitly_wait(10)\n",
    "\n",
    "# 네이버 영화 검색 페이지를 엽니다.\n",
    "driver.get(url) \n",
    "# 1초간 대기하여 페이지 로딩이 완료되도록 설정\n",
    "# (로딩 시간이 너무 짧으면 일부 요소가 표시되지 않을 수 있습니다.)\n",
    "time.sleep(1)"
   ]
  },
  {
   "cell_type": "code",
   "execution_count": 6,
   "id": "d77f803b-431c-41cd-90ed-107abf09a3c6",
   "metadata": {},
   "outputs": [],
   "source": [
    "# 검색하려는 영화 제목\n",
    "movie = \"범죄도시 4\"\n",
    "\n",
    "\n",
    "#id 속성이 nx_query 인 객체(검색창)를 search_box에 대입\n",
    "# 검색창 요소 찾기\n",
    "search_box = driver.find_element(By.ID, 'nx_query')\n",
    "#기존에 입력한 메시지 삭제\n",
    "search_box.clear()\n",
    "\n"
   ]
  },
  {
   "cell_type": "code",
   "execution_count": 7,
   "id": "70bdb2fd-29d1-4713-a03f-dfd05fd6fb7e",
   "metadata": {},
   "outputs": [],
   "source": [
    "#1초 대기\n",
    "time.sleep(1)\n",
    "#id 속성이 nx_query인 객체(검색창)에 영화 영화 제목 입력\n",
    "search_box.send_keys('영화 ', movie)"
   ]
  },
  {
   "cell_type": "code",
   "execution_count": 8,
   "id": "f7a606bd-cdd4-46fa-8bea-d8be27dce021",
   "metadata": {},
   "outputs": [],
   "source": [
    "#클래스 속성이 bt_search인 객체 (검색 버튼) 리턴\n",
    "search_button = driver.find_element(By.CLASS_NAME,'bt_search')\n",
    "#버튼 클릭\n",
    "search_button.click()\n"
   ]
  },
  {
   "cell_type": "code",
   "execution_count": 9,
   "id": "b12f14d5-1683-4dd5-a993-5ec80515637a",
   "metadata": {},
   "outputs": [],
   "source": [
    "#1초 대기\n",
    "time.sleep(1)            \n",
    "#클래스 속성이 tab_list인 객체 (정보 카테고리 탭)리턴\n",
    "tab_list = driver.find_element(By.CLASS_NAME, 'tab_list')\n",
    "#클래스 속성이 tab _tab (클래스 속성이 tab _tab )  인 객체들 (여러개) 중 인덱스 1인 객체 (두 번째 탭 선택) 리턴\n",
    "tab = tab_list.find_elements(By.CSS_SELECTOR,\".tab._tab\")[1]\n",
    "#선택한 탭 클릭\n",
    "tab.click()\n"
   ]
  },
  {
   "cell_type": "code",
   "execution_count": 10,
   "id": "463757e2-6758-4363-9d5a-fc570314d9cc",
   "metadata": {},
   "outputs": [],
   "source": [
    "#1초 대기\n",
    "time.sleep(1)\n",
    "\n",
    "#HTML 페이지 소스를 가져옵니다.\n",
    "html = driver.page_source\n",
    "#페이지의 정보를 추출 할 soup 객체 생성\n",
    "soup = BeautifulSoup(html, 'html.parser')"
   ]
  },
  {
   "cell_type": "code",
   "execution_count": 11,
   "id": "afb16b0c-1b35-4996-9c09-feb71d3fb0bc",
   "metadata": {},
   "outputs": [
    {
     "name": "stdout",
     "output_type": "stream",
     "text": [
      "title= 범죄도시4\n"
     ]
    }
   ],
   "source": [
    "# 영화 제목 수집\n",
    "#클래스 속성이 area_text_title인 객체(영화제목) 의 문자열 리턴\n",
    "title = soup.select_one(\".area_text_title\").text\n",
    "print(\"title=\",title)\n",
    "\n"
   ]
  },
  {
   "cell_type": "code",
   "execution_count": 12,
   "id": "85f50f55-e9ac-4ec4-b28f-4e67386d3d87",
   "metadata": {},
   "outputs": [
    {
     "name": "stdout",
     "output_type": "stream",
     "text": [
      "poster= https://search.pstatic.net/common?type=o&size=176x264&quality=85&direct=true&src=https%3A%2F%2Fs.pstatic.net%2Fmovie.phinf%2F20240425_256%2F17140073560223JK9r_JPEG%2Fmovie_image.jpg%3Ftype%3Dw640_2\n"
     ]
    }
   ],
   "source": [
    "# 영화 포스터 URL 수집\n",
    "#클래스 속성이 detail_info인 객체 리턴\n",
    "detail_info = soup.select_one(\".detail_info\")\n",
    "#클래스 속성이 detail_info인 객체에 포함된 객체 중 클래스 속성이 _img인 객체 리턴\n",
    "img = detail_info.select_one(\"._img\")\n",
    "#src 속성의 값 (영화 포스터의 url) 리턴\n",
    "poster = img['src']\n",
    "#영화 포스터의 url 출력\n",
    "print(\"poster=\",poster)\n"
   ]
  },
  {
   "cell_type": "code",
   "execution_count": 13,
   "id": "7d4bddaa-e99b-484f-8b7b-fbed3b7ff4b7",
   "metadata": {},
   "outputs": [
    {
     "name": "stdout",
     "output_type": "stream",
     "text": [
      "open_date= 2024.04.24.\n"
     ]
    }
   ],
   "source": [
    "\n",
    "# 영화의 세부 정보를 수집 (개봉일, 등급, 장르, 국가, 상영시간)\n",
    "#클래스 속성이 info txt_4 (2개 클래스 적용) 인 객체 리턴\n",
    "info_group = soup.select_one(\".info.txt_4\")\n",
    "#dd 엘레먼트 리턴 (여러개)\n",
    "dd_list = info_group.select(\"dd\")\n",
    "#0번째 dd의 문자열 리턴 (개봉일)\n",
    "open_date = dd_list[0].text\n",
    "print(\"open_date=\",open_date)\n",
    "\n"
   ]
  },
  {
   "cell_type": "code",
   "execution_count": 14,
   "id": "ecf5137b-6fd3-4437-b842-1e2dcd61b2ec",
   "metadata": {},
   "outputs": [
    {
     "name": "stdout",
     "output_type": "stream",
     "text": [
      "degree= 15세 이상 관람가\n",
      "genre= 액션, 범죄\n",
      "country= 대한민국\n",
      "movie_time= 109분\n"
     ]
    }
   ],
   "source": [
    "#1번째 dd의 문자열 리턴 (등급)\n",
    "degree = dd_list[1].text\n",
    "print(\"degree=\",degree)\n",
    "\n",
    "#2번째 dd의 문자열 리턴 (장르)\n",
    "genre = dd_list[2].text\n",
    "print(\"genre=\",genre)\n",
    "\n",
    "#3번째 dd의 문자열 리턴 (국가)\n",
    "country = dd_list[3].text\n",
    "print(\"country=\",country)\n",
    "\n",
    "#4번째 dd의 문자열 리턴 (상영시간)\n",
    "movie_time = dd_list[4].text\n",
    "print(\"movie_time=\",movie_time)\n",
    "\n"
   ]
  },
  {
   "cell_type": "code",
   "execution_count": 15,
   "id": "1fdca107-c7cd-42bd-ab02-1f2a218cb035",
   "metadata": {},
   "outputs": [
    {
     "name": "stdout",
     "output_type": "stream",
     "text": [
      "synopsis= 신종 마약 사건 3년 뒤, 괴물형사 ‘마석도’(마동석)와 서울 광수대는 배달앱을 이용한 마약 판매 사건을 수사하던 중 수배 중인 앱 개발자가 필리핀에서 사망한 사건이 대규모 온라인 불법 도박 조직과 연관되어 있음을 알아낸다. 필리핀에 거점을 두고 납치, 감금, 폭행, 살인 등으로 대한민국 온라인 불법 도박 시장을 장악한 특수부대 용병 출신의 빌런 ‘백창기’(김무열)와 한국에서 더 큰 판을 짜고 있는 IT업계 천재 CEO ‘장동철’(이동휘). ‘마석도’는 더 커진 판을 잡기 위해 ‘장이수’(박지환)에게 뜻밖의 협력을 제안하고 광역수사대는 물론, 사이버수사대까지 합류해 범죄를 소탕하기 시작하는데… 나쁜 놈 잡는데 국경도 영역도 제한 없다! 업그레이드 소탕 작전! 거침없이 싹 쓸어버린다!\n"
     ]
    }
   ],
   "source": [
    "#클래스 속성이 text _content_text (2개 클래스 적용) 인 객체 문자열(줄거리) 리턴\n",
    "synopsis = soup.select_one(\".text._content_text\").text\n",
    "print(\"synopsis=\",synopsis)\n"
   ]
  }
 ],
 "metadata": {
  "kernelspec": {
   "display_name": "Python 3 (ipykernel)",
   "language": "python",
   "name": "python3"
  },
  "language_info": {
   "codemirror_mode": {
    "name": "ipython",
    "version": 3
   },
   "file_extension": ".py",
   "mimetype": "text/x-python",
   "name": "python",
   "nbconvert_exporter": "python",
   "pygments_lexer": "ipython3",
   "version": "3.10.16"
  }
 },
 "nbformat": 4,
 "nbformat_minor": 5
}

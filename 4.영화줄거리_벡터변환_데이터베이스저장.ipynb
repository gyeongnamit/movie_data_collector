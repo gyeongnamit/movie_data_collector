{
 "cells": [
  {
   "cell_type": "markdown",
   "metadata": {},
   "source": [
    "# 필요한 도구 설치\n",
    "# 컴퓨터가 특정 작업을 수행할 수 있도록 필요한 프로그램을 추가로 설치하는 과정입니다."
   ]
  },
  {
   "cell_type": "code",
   "execution_count": null,
   "metadata": {},
   "outputs": [],
   "source": [
    "#'cmake' 설치: 컴퓨터 프로그램을 빌드하거나 컴파일할 때 필요한 도구\n",
    "!pip install cmake"
   ]
  },
  {
   "cell_type": "code",
   "execution_count": null,
   "metadata": {},
   "outputs": [],
   "source": [
    "# 'kiwipiepy' 설치: 한국어 문장을 분석해 단어를 나누고 품사를 판단하는 도구\n",
    "!pip install kiwipiepy"
   ]
  },
  {
   "cell_type": "code",
   "execution_count": null,
   "metadata": {},
   "outputs": [],
   "source": [
    "#'pandas' 설치: 표(스프레드시트) 형태의 데이터를 쉽게 다루게 해주는 도구\n",
    "!pip install pandas"
   ]
  },
  {
   "cell_type": "code",
   "execution_count": null,
   "metadata": {},
   "outputs": [],
   "source": [
    "# 'PyMySQL' 설치: 데이터를 저장하는 데이터베이스(MySQL)와 연결하는 도구\n",
    "!pip install PyMySQL"
   ]
  },
  {
   "cell_type": "code",
   "execution_count": null,
   "metadata": {},
   "outputs": [],
   "source": [
    "# 'tqdm' 설치: 반복 작업의 진행 상태를 화면에 표시해주는 도구\n",
    "!pip install tqdm"
   ]
  },
  {
   "cell_type": "code",
   "execution_count": null,
   "metadata": {},
   "outputs": [],
   "source": [
    "# 'gensim' 설치: 텍스트 데이터에서 중요한 단어를 분석하고 숫자로 변환하는 도구\n",
    "!pip install gensim"
   ]
  },
  {
   "cell_type": "code",
   "execution_count": null,
   "metadata": {},
   "outputs": [],
   "source": [
    "# 필요한 도구를 사용하기 위해 프로그램에 불러옵니다.\n",
    "import os  # 운영체제와 관련된 작업을 처리하기 위한 도구\n",
    "import pymysql  # 데이터베이스(MySQL)와 연결하고 작업하기 위한 도구\n",
    "import time  # 작업 시간 측정에 사용하는 도구\n",
    "import pandas as pd  # 표 데이터를 쉽게 다룰 수 있도록 돕는 도구\n",
    "import numpy as np  # 수학 계산 및 배열(숫자 데이터 처리)에 사용되는 도구\n",
    "from tqdm.notebook import tqdm  # 작업 진행 상태를 화면에 표시하는 도구\n",
    "from gensim.models.word2vec import Word2Vec  # 단어를 숫자로 변환해주는 도구\n",
    "from kiwipiepy import Kiwi  # 한국어 문장을 분석해 단어와 품사를 나누는 도구"
   ]
  },
  {
   "cell_type": "code",
   "execution_count": null,
   "metadata": {},
   "outputs": [],
   "source": [
    "# Kiwi라는 도구를 사용해 한국어 문장을 분석합니다.\n",
    "kiwi = Kiwi()\n"
   ]
  },
  {
   "cell_type": "code",
   "execution_count": null,
   "metadata": {},
   "outputs": [],
   "source": [
    "# 예제 문장을 분석해봅니다. 'tokenize'는 문장을 단어별로 나눠주는 기능입니다.\n",
    "kiwi.tokenize(\"아버지가 방에 들어가신다 그래서 슬프다 배가 아파요\")\n"
   ]
  },
  {
   "cell_type": "code",
   "execution_count": null,
   "metadata": {},
   "outputs": [],
   "source": [
    "# 텍스트를 분석하고 처리하는 함수 정의\n",
    "# 함수는 일종의 레시피로, 같은 작업을 반복적으로 실행할 때 사용합니다.\n",
    "def preprocessingText(text):\n",
    "    \"\"\"\n",
    "    문장을 받아서 중요한 단어들(명사, 형용사)만 추출합니다.\n",
    "    \"\"\"\n",
    "    stems = []  # 결과를 저장할 빈 상자(리스트) 생성\n",
    "\n",
    "    # Kiwi 도구를 사용해 문장을 단어별로 나누고 품사를 분석\n",
    "    tagged_review = kiwi.tokenize(text)\n",
    "\n",
    "    # 각 단어와 품사를 확인하면서 조건에 맞는 단어만 선택\n",
    "    for token in tagged_review:\n",
    "        word, pos = token.form, token.tag  # 단어와 품사(tag)를 분리\n",
    "        # 단어가 2글자 이상이고, 명사(NNG, NNP)나 형용사(VA)인 경우만 선택\n",
    "        if len(word) >= 2 and (pos == \"NNG\" or pos == \"NNP\" or pos == \"VA\"):\n",
    "            stems.append(word)  # 선택된 단어를 결과 상자에 추가\n",
    "\n",
    "    return \" \".join(stems)  # 선택된 단어들을 공백으로 연결해 반환"
   ]
  },
  {
   "cell_type": "code",
   "execution_count": null,
   "metadata": {
    "colab": {
     "base_uri": "https://localhost:8080/",
     "height": 35
    },
    "executionInfo": {
     "elapsed": 24,
     "status": "ok",
     "timestamp": 1663921163172,
     "user": {
      "displayName": "권혜윤",
      "userId": "09790742541836433426"
     },
     "user_tz": -540
    },
    "id": "KqVKyIj6nFLB",
    "outputId": "657f15ed-9c9a-436d-8ba6-f433d117e740"
   },
   "outputs": [],
   "source": [
    "# 예제 문장을 처리하여 중요한 단어만 추출해봅니다.\n",
    "preprocessingText(\"아버지가 방에 들어가신다 그래서 슬펐다 배가 아파요\")\n"
   ]
  },
  {
   "cell_type": "code",
   "execution_count": null,
   "metadata": {},
   "outputs": [],
   "source": [
    "# CSV 파일에서 영화 데이터를 읽어옵니다.\n",
    "# CSV는 엑셀처럼 표 형식으로 데이터를 저장한 파일입니다.\n",
    "movie_df = pd.read_csv(\"movie_2024.csv\")"
   ]
  },
  {
   "cell_type": "code",
   "execution_count": null,
   "metadata": {},
   "outputs": [],
   "source": [
    "# 영화 데이터를 확인해봅니다.\n",
    "movie_df"
   ]
  },
  {
   "cell_type": "code",
   "execution_count": null,
   "metadata": {},
   "outputs": [],
   "source": [
    "# 영화 줄거리 데이터의 첫 번째 내용을 확인합니다.\n",
    "movie_df.loc[0, 'synopsis']"
   ]
  },
  {
   "cell_type": "code",
   "execution_count": null,
   "metadata": {},
   "outputs": [],
   "source": [
    "# 첫 번째 줄거리 데이터를 분석해 중요한 단어만 추출해봅니다.\n",
    "preprocessingText(movie_df.loc[0, 'synopsis'])"
   ]
  },
  {
   "cell_type": "code",
   "execution_count": null,
   "metadata": {},
   "outputs": [],
   "source": [
    "# 새로운 열(Column)을 추가하고 기본값으로 'NaN'(빈 값)을 설정합니다.\n",
    "movie_df[\"synopsis_clear\"]=np.NaN"
   ]
  },
  {
   "cell_type": "code",
   "execution_count": null,
   "metadata": {},
   "outputs": [],
   "source": [
    "movie_df"
   ]
  },
  {
   "cell_type": "code",
   "execution_count": null,
   "metadata": {},
   "outputs": [],
   "source": [
    "#반복문의 진행 상태를 나타내는 객체\n",
    "from tqdm.notebook import tqdm\n",
    "\n",
    "sum=0\n",
    "#tqdm 을 사용하였기 때문에 반복문의 진행 상태를 \n",
    "#진행 바로 나타냄\n",
    "for i in tqdm(range(10000000)):\n",
    "  sum=sum+i"
   ]
  },
  {
   "cell_type": "code",
   "execution_count": null,
   "metadata": {},
   "outputs": [],
   "source": [
    "#행의 개수 조회\n",
    "len(movie_df)"
   ]
  },
  {
   "cell_type": "code",
   "execution_count": null,
   "metadata": {},
   "outputs": [],
   "source": [
    "#행의 개수 조회해서 row_num에 대입\n",
    "row_num = len(movie_df)"
   ]
  },
  {
   "cell_type": "code",
   "execution_count": null,
   "metadata": {},
   "outputs": [],
   "source": [
    "row_num"
   ]
  },
  {
   "cell_type": "code",
   "execution_count": null,
   "metadata": {},
   "outputs": [],
   "source": [
    "# 영화 데이터의 각 줄(행)을 반복하며 줄거리를 처리합니다.\n",
    "for index in tqdm(range(row_num)):\n",
    "    try:\n",
    "        # 줄거리 데이터를 읽어옵니다.\n",
    "        synopsis = movie_df.loc[index, \"synopsis\"]\n",
    "        # 줄거리 데이터를 처리해 중요한 단어만 추출합니다.\n",
    "        movie_df.loc[index, \"synopsis_clear\"] = preprocessingText(synopsis)\n",
    "    except Exception as e:\n",
    "        # 에러가 발생하면 빈 값(NaN)을 입력합니다.\n",
    "        movie_df.loc[index, \"synopsis_clear\"] = np.NaN"
   ]
  },
  {
   "cell_type": "code",
   "execution_count": null,
   "metadata": {
    "colab": {
     "base_uri": "https://localhost:8080/",
     "height": 971
    },
    "executionInfo": {
     "elapsed": 24,
     "status": "ok",
     "timestamp": 1663921195180,
     "user": {
      "displayName": "권혜윤",
      "userId": "09790742541836433426"
     },
     "user_tz": -540
    },
    "id": "3tajZnfcMmoB",
    "outputId": "e2672224-4364-46a1-db3f-42cf152138c0"
   },
   "outputs": [],
   "source": [
    "movie_df"
   ]
  },
  {
   "cell_type": "code",
   "execution_count": null,
   "metadata": {},
   "outputs": [],
   "source": [
    "# 처리된 줄거리 데이터에 공백을 추가합니다.\n",
    "movie_df[\"synopsis_clear\"] =  movie_df['synopsis_clear'].astype(str) + \" \""
   ]
  },
  {
   "cell_type": "code",
   "execution_count": null,
   "metadata": {},
   "outputs": [],
   "source": [
    "movie_df.loc[0,\"synopsis_clear\"]"
   ]
  },
  {
   "cell_type": "code",
   "execution_count": null,
   "metadata": {},
   "outputs": [],
   "source": [
    "#data.split(\" \") : 문자열을 공백기준으로 잘라서 리스트로 변환\n",
    "movie_df[\"synopsis_clear\"].apply(lambda data : data.split(\" \"))"
   ]
  },
  {
   "cell_type": "code",
   "execution_count": null,
   "metadata": {},
   "outputs": [],
   "source": [
    "#df[\"synopsis_clear\"].apply(lambda data : data.split(\" \")) : synopsis_clear 컬럼을 공백을 기준으로 단어별로 분리해서 리턴\n",
    "movie_df[\"synopsis_clear_list\"] = movie_df[\"synopsis_clear\"].apply(lambda data : data.split(\" \"))"
   ]
  },
  {
   "cell_type": "code",
   "execution_count": null,
   "metadata": {},
   "outputs": [],
   "source": [
    "movie_df"
   ]
  },
  {
   "cell_type": "code",
   "execution_count": null,
   "metadata": {},
   "outputs": [],
   "source": [
    "movie_df[\"synopsis_clear_list\"]"
   ]
  },
  {
   "cell_type": "code",
   "execution_count": null,
   "metadata": {},
   "outputs": [],
   "source": [
    "movie_df[\"synopsis_clear_list\"][0]"
   ]
  },
  {
   "cell_type": "code",
   "execution_count": null,
   "metadata": {},
   "outputs": [],
   "source": [
    "from gensim.models.word2vec import Word2Vec\n",
    "# gensim의 Word2Vec을 사용해 단어를 숫자로 변환합니다.\n",
    "word2vec = Word2Vec(\n",
    "    movie_df[\"synopsis_clear_list\"],  # 단어 데이터를 입력\n",
    "    sg=1,  # Skip-gram 방식 사용\n",
    "    vector_size=80,  # 변환된 숫자의 길이\n",
    "    window=5,  # 앞뒤 5개 단어를 고려\n",
    "    workers=10  # 동시에 작업할 코어 수\n",
    ")"
   ]
  },
  {
   "cell_type": "markdown",
   "metadata": {},
   "source": [
    "# 단어를 숫자(Vector)로 변환한 데이터 확인\n",
    "# 이 데이터를 통해 컴퓨터는 단어를 숫자로 이해하고 계산할 수 있습니다."
   ]
  },
  {
   "cell_type": "code",
   "execution_count": null,
   "metadata": {},
   "outputs": [],
   "source": [
    "# 단어와 해당 숫자(Vector) 데이터의 순서를 조회합니다.\n",
    "word2vec.wv.key_to_index"
   ]
  },
  {
   "cell_type": "code",
   "execution_count": null,
   "metadata": {},
   "outputs": [],
   "source": [
    "# 단어만 따로 추출해 확인합니다.\n",
    "word2vec.wv.key_to_index.keys()"
   ]
  },
  {
   "cell_type": "code",
   "execution_count": null,
   "metadata": {},
   "outputs": [],
   "source": [
    "# \"시작\"이라는 단어의 순위를 확인합니다.\n",
    "# 순위는 단어가 얼마나 자주 사용되었는지를 기준으로 결정됩니다.\n",
    "word2vec.wv.key_to_index[\"시작\"]"
   ]
  },
  {
   "cell_type": "code",
   "execution_count": null,
   "metadata": {},
   "outputs": [],
   "source": [
    "# \"자신\"이라는 단어의 순위를 확인합니다.\n",
    "word2vec.wv.key_to_index[\"자신\"]"
   ]
  },
  {
   "cell_type": "code",
   "execution_count": null,
   "metadata": {},
   "outputs": [],
   "source": [
    "# \"사랑\"이라는 단어와 비슷한 뜻을 가진 단어들을 찾아줍니다.\n",
    "# 비슷한 단어를 추천하거나 의미를 비교하는 데 사용됩니다.\n",
    "word2vec.wv.most_similar(\"사랑\")"
   ]
  },
  {
   "cell_type": "code",
   "execution_count": null,
   "metadata": {},
   "outputs": [],
   "source": [
    "# \"가족\"이라는 단어와 비슷한 뜻을 가진 단어들을 찾아줍니다.\n",
    "word2vec.wv.most_similar(\"가족\")"
   ]
  },
  {
   "cell_type": "code",
   "execution_count": null,
   "metadata": {
    "id": "DCiIOKabPd_T"
   },
   "outputs": [],
   "source": [
    "# \"사랑\"이라는 단어를 숫자(Vector)로 변환한 데이터를 확인합니다.\n",
    "# 이 데이터는 컴퓨터가 단어를 이해하도록 돕는 숫자 집합입니다.\n",
    "word2vec.wv[\"사랑\"]"
   ]
  },
  {
   "cell_type": "code",
   "execution_count": null,
   "metadata": {},
   "outputs": [],
   "source": [
    "# \"가족\"이라는 단어를 숫자(Vector)로 변환한 데이터를 확인합니다.\n",
    "word2vec.wv[\"가족\"]"
   ]
  },
  {
   "cell_type": "code",
   "execution_count": null,
   "metadata": {},
   "outputs": [],
   "source": [
    "#WordVector로 변환한 단어들 조회\n",
    "word2vec.wv.key_to_index.keys()"
   ]
  },
  {
   "cell_type": "code",
   "execution_count": null,
   "metadata": {},
   "outputs": [],
   "source": [
    "#WordVector로 변환한 단어들 word2vec_words 대입\n",
    "word2vec_words = word2vec.wv.key_to_index.keys()"
   ]
  },
  {
   "cell_type": "code",
   "execution_count": null,
   "metadata": {},
   "outputs": [],
   "source": [
    "# 저장된 단어 데이터를 확인합니다.\n",
    "word2vec_words"
   ]
  },
  {
   "cell_type": "markdown",
   "metadata": {},
   "source": [
    "# 특정 영화 데이터를 기반으로 WordVector를 계산합니다."
   ]
  },
  {
   "cell_type": "code",
   "execution_count": null,
   "metadata": {},
   "outputs": [],
   "source": [
    "# 첫 번째 영화 제목을 가져옵니다.\n",
    "title = movie_df.loc[0, \"title\"]\n",
    "print(\"title=\", title)\n",
    "\n",
    "# 줄거리 데이터를 가져옵니다.\n",
    "line = movie_df.loc[0, \"synopsis_clear_list\"]\n",
    "print(\"line=\", line)\n",
    "\n",
    "doc2vec = None  # 초기값 설정\n",
    "count = 0  # 단어 개수를 셀 변수\n",
    "\n",
    "# 줄거리 데이터를 한 단어씩 처리합니다.\n",
    "for word in line:\n",
    "    print(\"word=\", word, end=\"\\t\")\n",
    "    if word in word2vec_words:  # 단어가 WordVector에 포함된 경우\n",
    "        count += 1  # 단어 개수를 하나 증가\n",
    "        if doc2vec is None:  # 첫 번째 단어인 경우\n",
    "            doc2vec = word2vec.wv[word]  # 단어의 Vector 값을 초기값으로 설정\n",
    "        else:  # 두 번째 단어부터는 값을 더합니다.\n",
    "            doc2vec = doc2vec + word2vec.wv[word]\n",
    "\n",
    "# 모든 단어의 벡터를 더한 값을 단어 개수로 나눠 평균 벡터를 구합니다.\n",
    "if doc2vec is not None:\n",
    "    doc2vec = doc2vec / count\n",
    "\n",
    "print()    \n",
    "print(\"=\" * 100)\n",
    "print(\"title=\", title, \":doc2vec=\", doc2vec)\n",
    "print(\"=\" * 100)"
   ]
  },
  {
   "cell_type": "code",
   "execution_count": null,
   "metadata": {},
   "outputs": [],
   "source": [
    "\n",
    "# 결과로 나온 doc2vec 데이터를 확인합니다.\n",
    "doc2vec"
   ]
  },
  {
   "cell_type": "code",
   "execution_count": null,
   "metadata": {},
   "outputs": [],
   "source": [
    "# 벡터 데이터를 문자열로 변환합니다.\n",
    "string_array = doc2vec.tostring()"
   ]
  },
  {
   "cell_type": "code",
   "execution_count": null,
   "metadata": {},
   "outputs": [],
   "source": [
    "string_array"
   ]
  },
  {
   "cell_type": "code",
   "execution_count": null,
   "metadata": {},
   "outputs": [],
   "source": [
    "# 문자열 형태의 데이터를 다시 숫자 배열로 복원합니다.\n",
    "numpy_array = np.fromstring(string_array, dtype=\"float32\")"
   ]
  },
  {
   "cell_type": "code",
   "execution_count": null,
   "metadata": {},
   "outputs": [],
   "source": [
    "numpy_array"
   ]
  },
  {
   "cell_type": "code",
   "execution_count": null,
   "metadata": {},
   "outputs": [],
   "source": [
    "#행의 수 조회\n",
    "len(movie_df)"
   ]
  },
  {
   "cell_type": "code",
   "execution_count": null,
   "metadata": {},
   "outputs": [],
   "source": [
    "#행의 수를 row_num에 저장\n",
    "row_num = len(movie_df)"
   ]
  },
  {
   "cell_type": "code",
   "execution_count": null,
   "metadata": {},
   "outputs": [],
   "source": [
    "row_num "
   ]
  },
  {
   "cell_type": "code",
   "execution_count": null,
   "metadata": {},
   "outputs": [],
   "source": [
    "#데이터베이스 연결\n",
    "# 데이터베이스 연결 설정\n",
    "db = pymysql.connect(\n",
    "    host='RDS 엔드포인트를 입력 합니다',  # 데이터베이스 서버 주소\n",
    "    port=3306,  # 데이터베이스 연결 포트\n",
    "    user='admin',  # 데이터베이스 사용자 이름\n",
    "    passwd='RDS 비밀 번호를 입력 합니다',  # 데이터베이스 사용자 비밀번호\n",
    "    db='movie_db',  # 데이터베이스 이름\n",
    "    charset='utf8'  # 데이터 인코딩 설정\n",
    ")"
   ]
  },
  {
   "cell_type": "code",
   "execution_count": null,
   "metadata": {},
   "outputs": [],
   "source": [
    "#데이터베이스 쿼리를 실행할 객체 생성\n",
    "cursor = db.cursor()"
   ]
  },
  {
   "cell_type": "code",
   "execution_count": null,
   "metadata": {},
   "outputs": [],
   "source": [
    "# 각 영화 데이터를 데이터베이스에 저장합니다.\n",
    "for index in range(row_num):\n",
    "    try:\n",
    "        print(\"=\" * 100)\n",
    "        print(\"index=\", index)\n",
    "\n",
    "        # 영화 데이터를 각각 읽어옵니다.\n",
    "        title = movie_df.loc[index, \"title\"]\n",
    "        director = movie_df.loc[index, \"director\"]\n",
    "        actor = movie_df.loc[index, \"actor\"]\n",
    "        synopsis = movie_df.loc[index, \"synopsis\"]\n",
    "        poster = movie_df.loc[index, \"poster\"]\n",
    "        open_date = movie_df.loc[index, \"open_date\"]\n",
    "        degree = movie_df.loc[index, \"degree\"]\n",
    "        genre = movie_df.loc[index, \"genre\"]\n",
    "        country = movie_df.loc[index, \"country\"]\n",
    "        movie_time = movie_df.loc[index, \"movie_time\"]\n",
    "        box_office = movie_df.loc[index, \"box_office\"]\n",
    "\n",
    "        # 줄거리 데이터를 WordVector로 변환합니다.\n",
    "        line = movie_df.loc[index, \"synopsis_clear_list\"]\n",
    "        doc2vec = None\n",
    "        count = 0\n",
    "        for word in line:\n",
    "            if word in word2vec_words:\n",
    "                count += 1\n",
    "                if doc2vec is None:\n",
    "                    doc2vec = word2vec.wv[word]\n",
    "                else:\n",
    "                    doc2vec = doc2vec + word2vec.wv[word]\n",
    "\n",
    "        if doc2vec is not None:\n",
    "            doc2vec = doc2vec / count\n",
    "\n",
    "        # SQL 쿼리를 생성하고 데이터베이스에 저장합니다.\n",
    "        sql = \"\"\"insert into movie_tbl \n",
    "                 (title, director, actor, synopsis, poster, open_date, degree, genre, country, movie_time, box_office, synopsis_vector) \n",
    "                 values (%s, %s, %s, %s, %s, STR_TO_DATE(%s, '%%Y.%%m.%%d.'), %s, %s, %s, %s,%s, %s)\"\"\"\n",
    "        \n",
    "        cursor.execute(sql, (title, director, actor, synopsis, poster, open_date, degree, genre, country, movie_time, box_office, doc2vec.tostring()))\n",
    "        db.commit()\n",
    "        \n",
    "    except Exception as e:\n",
    "        print(\"exception=\", e)\n"
   ]
  },
  {
   "cell_type": "code",
   "execution_count": null,
   "metadata": {},
   "outputs": [],
   "source": [
    "# 데이터베이스에서 특정 영화 데이터를 조회합니다.\n",
    "sql = \"select title,synopsis_vector from movie_tbl where num=1\"\n",
    "cursor.execute(sql)\n",
    "rows = cursor.fetchall()\n",
    "\n",
    "for row in rows:\n",
    "    print(\"title:row[0]=\", row[0])\n",
    "    print(\"=\" * 100)\n",
    "    print(\"synopsis_vector:row[1]=\", row[1])\n",
    "    print(\"=\" * 100)\n",
    "    print(\"synopsis_vector:row[1]=\", np.fromstring(row[1], dtype=\"float32\"))\n",
    "\n"
   ]
  },
  {
   "cell_type": "code",
   "execution_count": null,
   "metadata": {},
   "outputs": [],
   "source": [
    "# 데이터베이스 연결을 종료합니다.\n",
    "db.close()"
   ]
  },
  {
   "cell_type": "code",
   "execution_count": null,
   "metadata": {},
   "outputs": [],
   "source": []
  }
 ],
 "metadata": {
  "accelerator": "GPU",
  "colab": {
   "background_execution": "on",
   "collapsed_sections": [],
   "machine_shape": "hm",
   "provenance": []
  },
  "kernelspec": {
   "display_name": "Python 3 (ipykernel)",
   "language": "python",
   "name": "python3"
  },
  "language_info": {
   "codemirror_mode": {
    "name": "ipython",
    "version": 3
   },
   "file_extension": ".py",
   "mimetype": "text/x-python",
   "name": "python",
   "nbconvert_exporter": "python",
   "pygments_lexer": "ipython3",
   "version": "3.10.16"
  },
  "widgets": {
   "application/vnd.jupyter.widget-state+json": {
    "023e95937b214f8b8bcde8e9efac78f7": {
     "model_module": "@jupyter-widgets/base",
     "model_module_version": "1.2.0",
     "model_name": "LayoutModel",
     "state": {
      "_model_module": "@jupyter-widgets/base",
      "_model_module_version": "1.2.0",
      "_model_name": "LayoutModel",
      "_view_count": null,
      "_view_module": "@jupyter-widgets/base",
      "_view_module_version": "1.2.0",
      "_view_name": "LayoutView",
      "align_content": null,
      "align_items": null,
      "align_self": null,
      "border": null,
      "bottom": null,
      "display": null,
      "flex": null,
      "flex_flow": null,
      "grid_area": null,
      "grid_auto_columns": null,
      "grid_auto_flow": null,
      "grid_auto_rows": null,
      "grid_column": null,
      "grid_gap": null,
      "grid_row": null,
      "grid_template_areas": null,
      "grid_template_columns": null,
      "grid_template_rows": null,
      "height": null,
      "justify_content": null,
      "justify_items": null,
      "left": null,
      "margin": null,
      "max_height": null,
      "max_width": null,
      "min_height": null,
      "min_width": null,
      "object_fit": null,
      "object_position": null,
      "order": null,
      "overflow": null,
      "overflow_x": null,
      "overflow_y": null,
      "padding": null,
      "right": null,
      "top": null,
      "visibility": null,
      "width": null
     }
    },
    "0c17817ffd70498985f539f9b43dd370": {
     "model_module": "@jupyter-widgets/base",
     "model_module_version": "1.2.0",
     "model_name": "LayoutModel",
     "state": {
      "_model_module": "@jupyter-widgets/base",
      "_model_module_version": "1.2.0",
      "_model_name": "LayoutModel",
      "_view_count": null,
      "_view_module": "@jupyter-widgets/base",
      "_view_module_version": "1.2.0",
      "_view_name": "LayoutView",
      "align_content": null,
      "align_items": null,
      "align_self": null,
      "border": null,
      "bottom": null,
      "display": null,
      "flex": null,
      "flex_flow": null,
      "grid_area": null,
      "grid_auto_columns": null,
      "grid_auto_flow": null,
      "grid_auto_rows": null,
      "grid_column": null,
      "grid_gap": null,
      "grid_row": null,
      "grid_template_areas": null,
      "grid_template_columns": null,
      "grid_template_rows": null,
      "height": null,
      "justify_content": null,
      "justify_items": null,
      "left": null,
      "margin": null,
      "max_height": null,
      "max_width": null,
      "min_height": null,
      "min_width": null,
      "object_fit": null,
      "object_position": null,
      "order": null,
      "overflow": null,
      "overflow_x": null,
      "overflow_y": null,
      "padding": null,
      "right": null,
      "top": null,
      "visibility": null,
      "width": null
     }
    },
    "0d74e4807cca4b0e94596a6806d41e83": {
     "model_module": "@jupyter-widgets/base",
     "model_module_version": "1.2.0",
     "model_name": "LayoutModel",
     "state": {
      "_model_module": "@jupyter-widgets/base",
      "_model_module_version": "1.2.0",
      "_model_name": "LayoutModel",
      "_view_count": null,
      "_view_module": "@jupyter-widgets/base",
      "_view_module_version": "1.2.0",
      "_view_name": "LayoutView",
      "align_content": null,
      "align_items": null,
      "align_self": null,
      "border": null,
      "bottom": null,
      "display": null,
      "flex": null,
      "flex_flow": null,
      "grid_area": null,
      "grid_auto_columns": null,
      "grid_auto_flow": null,
      "grid_auto_rows": null,
      "grid_column": null,
      "grid_gap": null,
      "grid_row": null,
      "grid_template_areas": null,
      "grid_template_columns": null,
      "grid_template_rows": null,
      "height": null,
      "justify_content": null,
      "justify_items": null,
      "left": null,
      "margin": null,
      "max_height": null,
      "max_width": null,
      "min_height": null,
      "min_width": null,
      "object_fit": null,
      "object_position": null,
      "order": null,
      "overflow": null,
      "overflow_x": null,
      "overflow_y": null,
      "padding": null,
      "right": null,
      "top": null,
      "visibility": null,
      "width": null
     }
    },
    "0d92976377f84b1e9a87a202b1687cb1": {
     "model_module": "@jupyter-widgets/controls",
     "model_module_version": "1.5.0",
     "model_name": "HBoxModel",
     "state": {
      "_dom_classes": [],
      "_model_module": "@jupyter-widgets/controls",
      "_model_module_version": "1.5.0",
      "_model_name": "HBoxModel",
      "_view_count": null,
      "_view_module": "@jupyter-widgets/controls",
      "_view_module_version": "1.5.0",
      "_view_name": "HBoxView",
      "box_style": "",
      "children": [
       "IPY_MODEL_0e896b03c2ba46afbbeb85d3862a94ed",
       "IPY_MODEL_399b5322fd5042aebecbe83033e9e49f",
       "IPY_MODEL_7b6500d8edc94b86b57855f6bb2a0055"
      ],
      "layout": "IPY_MODEL_26196a943fd245a48d83fa90a68e4886"
     }
    },
    "0e896b03c2ba46afbbeb85d3862a94ed": {
     "model_module": "@jupyter-widgets/controls",
     "model_module_version": "1.5.0",
     "model_name": "HTMLModel",
     "state": {
      "_dom_classes": [],
      "_model_module": "@jupyter-widgets/controls",
      "_model_module_version": "1.5.0",
      "_model_name": "HTMLModel",
      "_view_count": null,
      "_view_module": "@jupyter-widgets/controls",
      "_view_module_version": "1.5.0",
      "_view_name": "HTMLView",
      "description": "",
      "description_tooltip": null,
      "layout": "IPY_MODEL_112362ea11f54ac1b5a9e74f83a40450",
      "placeholder": "​",
      "style": "IPY_MODEL_25806d88effa47e69c863e9ecb56a897",
      "value": "100%"
     }
    },
    "112362ea11f54ac1b5a9e74f83a40450": {
     "model_module": "@jupyter-widgets/base",
     "model_module_version": "1.2.0",
     "model_name": "LayoutModel",
     "state": {
      "_model_module": "@jupyter-widgets/base",
      "_model_module_version": "1.2.0",
      "_model_name": "LayoutModel",
      "_view_count": null,
      "_view_module": "@jupyter-widgets/base",
      "_view_module_version": "1.2.0",
      "_view_name": "LayoutView",
      "align_content": null,
      "align_items": null,
      "align_self": null,
      "border": null,
      "bottom": null,
      "display": null,
      "flex": null,
      "flex_flow": null,
      "grid_area": null,
      "grid_auto_columns": null,
      "grid_auto_flow": null,
      "grid_auto_rows": null,
      "grid_column": null,
      "grid_gap": null,
      "grid_row": null,
      "grid_template_areas": null,
      "grid_template_columns": null,
      "grid_template_rows": null,
      "height": null,
      "justify_content": null,
      "justify_items": null,
      "left": null,
      "margin": null,
      "max_height": null,
      "max_width": null,
      "min_height": null,
      "min_width": null,
      "object_fit": null,
      "object_position": null,
      "order": null,
      "overflow": null,
      "overflow_x": null,
      "overflow_y": null,
      "padding": null,
      "right": null,
      "top": null,
      "visibility": null,
      "width": null
     }
    },
    "1703fc44f5fb4fabaebc452f5633456a": {
     "model_module": "@jupyter-widgets/base",
     "model_module_version": "1.2.0",
     "model_name": "LayoutModel",
     "state": {
      "_model_module": "@jupyter-widgets/base",
      "_model_module_version": "1.2.0",
      "_model_name": "LayoutModel",
      "_view_count": null,
      "_view_module": "@jupyter-widgets/base",
      "_view_module_version": "1.2.0",
      "_view_name": "LayoutView",
      "align_content": null,
      "align_items": null,
      "align_self": null,
      "border": null,
      "bottom": null,
      "display": null,
      "flex": null,
      "flex_flow": null,
      "grid_area": null,
      "grid_auto_columns": null,
      "grid_auto_flow": null,
      "grid_auto_rows": null,
      "grid_column": null,
      "grid_gap": null,
      "grid_row": null,
      "grid_template_areas": null,
      "grid_template_columns": null,
      "grid_template_rows": null,
      "height": null,
      "justify_content": null,
      "justify_items": null,
      "left": null,
      "margin": null,
      "max_height": null,
      "max_width": null,
      "min_height": null,
      "min_width": null,
      "object_fit": null,
      "object_position": null,
      "order": null,
      "overflow": null,
      "overflow_x": null,
      "overflow_y": null,
      "padding": null,
      "right": null,
      "top": null,
      "visibility": null,
      "width": null
     }
    },
    "1974ef5cf6ac4c8ebf518fc3cfae1aeb": {
     "model_module": "@jupyter-widgets/base",
     "model_module_version": "1.2.0",
     "model_name": "LayoutModel",
     "state": {
      "_model_module": "@jupyter-widgets/base",
      "_model_module_version": "1.2.0",
      "_model_name": "LayoutModel",
      "_view_count": null,
      "_view_module": "@jupyter-widgets/base",
      "_view_module_version": "1.2.0",
      "_view_name": "LayoutView",
      "align_content": null,
      "align_items": null,
      "align_self": null,
      "border": null,
      "bottom": null,
      "display": null,
      "flex": null,
      "flex_flow": null,
      "grid_area": null,
      "grid_auto_columns": null,
      "grid_auto_flow": null,
      "grid_auto_rows": null,
      "grid_column": null,
      "grid_gap": null,
      "grid_row": null,
      "grid_template_areas": null,
      "grid_template_columns": null,
      "grid_template_rows": null,
      "height": null,
      "justify_content": null,
      "justify_items": null,
      "left": null,
      "margin": null,
      "max_height": null,
      "max_width": null,
      "min_height": null,
      "min_width": null,
      "object_fit": null,
      "object_position": null,
      "order": null,
      "overflow": null,
      "overflow_x": null,
      "overflow_y": null,
      "padding": null,
      "right": null,
      "top": null,
      "visibility": null,
      "width": null
     }
    },
    "1cc863f2be0149409c85b6033d2c214a": {
     "model_module": "@jupyter-widgets/controls",
     "model_module_version": "1.5.0",
     "model_name": "DescriptionStyleModel",
     "state": {
      "_model_module": "@jupyter-widgets/controls",
      "_model_module_version": "1.5.0",
      "_model_name": "DescriptionStyleModel",
      "_view_count": null,
      "_view_module": "@jupyter-widgets/base",
      "_view_module_version": "1.2.0",
      "_view_name": "StyleView",
      "description_width": ""
     }
    },
    "1ce586e18b5f49f496d15b95124ba2a8": {
     "model_module": "@jupyter-widgets/controls",
     "model_module_version": "1.5.0",
     "model_name": "DescriptionStyleModel",
     "state": {
      "_model_module": "@jupyter-widgets/controls",
      "_model_module_version": "1.5.0",
      "_model_name": "DescriptionStyleModel",
      "_view_count": null,
      "_view_module": "@jupyter-widgets/base",
      "_view_module_version": "1.2.0",
      "_view_name": "StyleView",
      "description_width": ""
     }
    },
    "25806d88effa47e69c863e9ecb56a897": {
     "model_module": "@jupyter-widgets/controls",
     "model_module_version": "1.5.0",
     "model_name": "DescriptionStyleModel",
     "state": {
      "_model_module": "@jupyter-widgets/controls",
      "_model_module_version": "1.5.0",
      "_model_name": "DescriptionStyleModel",
      "_view_count": null,
      "_view_module": "@jupyter-widgets/base",
      "_view_module_version": "1.2.0",
      "_view_name": "StyleView",
      "description_width": ""
     }
    },
    "25bded870a014b6bbd1eda69a65e7fd2": {
     "model_module": "@jupyter-widgets/controls",
     "model_module_version": "1.5.0",
     "model_name": "DescriptionStyleModel",
     "state": {
      "_model_module": "@jupyter-widgets/controls",
      "_model_module_version": "1.5.0",
      "_model_name": "DescriptionStyleModel",
      "_view_count": null,
      "_view_module": "@jupyter-widgets/base",
      "_view_module_version": "1.2.0",
      "_view_name": "StyleView",
      "description_width": ""
     }
    },
    "26196a943fd245a48d83fa90a68e4886": {
     "model_module": "@jupyter-widgets/base",
     "model_module_version": "1.2.0",
     "model_name": "LayoutModel",
     "state": {
      "_model_module": "@jupyter-widgets/base",
      "_model_module_version": "1.2.0",
      "_model_name": "LayoutModel",
      "_view_count": null,
      "_view_module": "@jupyter-widgets/base",
      "_view_module_version": "1.2.0",
      "_view_name": "LayoutView",
      "align_content": null,
      "align_items": null,
      "align_self": null,
      "border": null,
      "bottom": null,
      "display": null,
      "flex": null,
      "flex_flow": null,
      "grid_area": null,
      "grid_auto_columns": null,
      "grid_auto_flow": null,
      "grid_auto_rows": null,
      "grid_column": null,
      "grid_gap": null,
      "grid_row": null,
      "grid_template_areas": null,
      "grid_template_columns": null,
      "grid_template_rows": null,
      "height": null,
      "justify_content": null,
      "justify_items": null,
      "left": null,
      "margin": null,
      "max_height": null,
      "max_width": null,
      "min_height": null,
      "min_width": null,
      "object_fit": null,
      "object_position": null,
      "order": null,
      "overflow": null,
      "overflow_x": null,
      "overflow_y": null,
      "padding": null,
      "right": null,
      "top": null,
      "visibility": null,
      "width": null
     }
    },
    "32383f6140c34984b74656a6fb70897a": {
     "model_module": "@jupyter-widgets/controls",
     "model_module_version": "1.5.0",
     "model_name": "ProgressStyleModel",
     "state": {
      "_model_module": "@jupyter-widgets/controls",
      "_model_module_version": "1.5.0",
      "_model_name": "ProgressStyleModel",
      "_view_count": null,
      "_view_module": "@jupyter-widgets/base",
      "_view_module_version": "1.2.0",
      "_view_name": "StyleView",
      "bar_color": null,
      "description_width": ""
     }
    },
    "39546717a96a45a4b3e56549237a84b3": {
     "model_module": "@jupyter-widgets/base",
     "model_module_version": "1.2.0",
     "model_name": "LayoutModel",
     "state": {
      "_model_module": "@jupyter-widgets/base",
      "_model_module_version": "1.2.0",
      "_model_name": "LayoutModel",
      "_view_count": null,
      "_view_module": "@jupyter-widgets/base",
      "_view_module_version": "1.2.0",
      "_view_name": "LayoutView",
      "align_content": null,
      "align_items": null,
      "align_self": null,
      "border": null,
      "bottom": null,
      "display": null,
      "flex": null,
      "flex_flow": null,
      "grid_area": null,
      "grid_auto_columns": null,
      "grid_auto_flow": null,
      "grid_auto_rows": null,
      "grid_column": null,
      "grid_gap": null,
      "grid_row": null,
      "grid_template_areas": null,
      "grid_template_columns": null,
      "grid_template_rows": null,
      "height": null,
      "justify_content": null,
      "justify_items": null,
      "left": null,
      "margin": null,
      "max_height": null,
      "max_width": null,
      "min_height": null,
      "min_width": null,
      "object_fit": null,
      "object_position": null,
      "order": null,
      "overflow": null,
      "overflow_x": null,
      "overflow_y": null,
      "padding": null,
      "right": null,
      "top": null,
      "visibility": null,
      "width": null
     }
    },
    "399b5322fd5042aebecbe83033e9e49f": {
     "model_module": "@jupyter-widgets/controls",
     "model_module_version": "1.5.0",
     "model_name": "FloatProgressModel",
     "state": {
      "_dom_classes": [],
      "_model_module": "@jupyter-widgets/controls",
      "_model_module_version": "1.5.0",
      "_model_name": "FloatProgressModel",
      "_view_count": null,
      "_view_module": "@jupyter-widgets/controls",
      "_view_module_version": "1.5.0",
      "_view_name": "ProgressView",
      "bar_style": "success",
      "description": "",
      "description_tooltip": null,
      "layout": "IPY_MODEL_0d74e4807cca4b0e94596a6806d41e83",
      "max": 426,
      "min": 0,
      "orientation": "horizontal",
      "style": "IPY_MODEL_32383f6140c34984b74656a6fb70897a",
      "value": 426
     }
    },
    "4bfabafc7b7949d2867a63424d528589": {
     "model_module": "@jupyter-widgets/controls",
     "model_module_version": "1.5.0",
     "model_name": "HBoxModel",
     "state": {
      "_dom_classes": [],
      "_model_module": "@jupyter-widgets/controls",
      "_model_module_version": "1.5.0",
      "_model_name": "HBoxModel",
      "_view_count": null,
      "_view_module": "@jupyter-widgets/controls",
      "_view_module_version": "1.5.0",
      "_view_name": "HBoxView",
      "box_style": "",
      "children": [
       "IPY_MODEL_ba4a63db04c2444da6546d2f158a75c2",
       "IPY_MODEL_9517ca24459e45278fd9c762631ca6c4",
       "IPY_MODEL_853efd3fa5264812a14b910b87f92f1e"
      ],
      "layout": "IPY_MODEL_39546717a96a45a4b3e56549237a84b3"
     }
    },
    "4f7274fb31244b2da23a4f8cc5c9d79f": {
     "model_module": "@jupyter-widgets/controls",
     "model_module_version": "1.5.0",
     "model_name": "HTMLModel",
     "state": {
      "_dom_classes": [],
      "_model_module": "@jupyter-widgets/controls",
      "_model_module_version": "1.5.0",
      "_model_name": "HTMLModel",
      "_view_count": null,
      "_view_module": "@jupyter-widgets/controls",
      "_view_module_version": "1.5.0",
      "_view_name": "HTMLView",
      "description": "",
      "description_tooltip": null,
      "layout": "IPY_MODEL_7043182a00034a59b17855e74dca5f7c",
      "placeholder": "​",
      "style": "IPY_MODEL_25bded870a014b6bbd1eda69a65e7fd2",
      "value": "100%"
     }
    },
    "5f3aaac60dca48fbae56f18cbdf55085": {
     "model_module": "@jupyter-widgets/controls",
     "model_module_version": "1.5.0",
     "model_name": "DescriptionStyleModel",
     "state": {
      "_model_module": "@jupyter-widgets/controls",
      "_model_module_version": "1.5.0",
      "_model_name": "DescriptionStyleModel",
      "_view_count": null,
      "_view_module": "@jupyter-widgets/base",
      "_view_module_version": "1.2.0",
      "_view_name": "StyleView",
      "description_width": ""
     }
    },
    "61aa6bf1cda14c77b5e2f1daa0bd12c3": {
     "model_module": "@jupyter-widgets/base",
     "model_module_version": "1.2.0",
     "model_name": "LayoutModel",
     "state": {
      "_model_module": "@jupyter-widgets/base",
      "_model_module_version": "1.2.0",
      "_model_name": "LayoutModel",
      "_view_count": null,
      "_view_module": "@jupyter-widgets/base",
      "_view_module_version": "1.2.0",
      "_view_name": "LayoutView",
      "align_content": null,
      "align_items": null,
      "align_self": null,
      "border": null,
      "bottom": null,
      "display": null,
      "flex": null,
      "flex_flow": null,
      "grid_area": null,
      "grid_auto_columns": null,
      "grid_auto_flow": null,
      "grid_auto_rows": null,
      "grid_column": null,
      "grid_gap": null,
      "grid_row": null,
      "grid_template_areas": null,
      "grid_template_columns": null,
      "grid_template_rows": null,
      "height": null,
      "justify_content": null,
      "justify_items": null,
      "left": null,
      "margin": null,
      "max_height": null,
      "max_width": null,
      "min_height": null,
      "min_width": null,
      "object_fit": null,
      "object_position": null,
      "order": null,
      "overflow": null,
      "overflow_x": null,
      "overflow_y": null,
      "padding": null,
      "right": null,
      "top": null,
      "visibility": null,
      "width": null
     }
    },
    "7043182a00034a59b17855e74dca5f7c": {
     "model_module": "@jupyter-widgets/base",
     "model_module_version": "1.2.0",
     "model_name": "LayoutModel",
     "state": {
      "_model_module": "@jupyter-widgets/base",
      "_model_module_version": "1.2.0",
      "_model_name": "LayoutModel",
      "_view_count": null,
      "_view_module": "@jupyter-widgets/base",
      "_view_module_version": "1.2.0",
      "_view_name": "LayoutView",
      "align_content": null,
      "align_items": null,
      "align_self": null,
      "border": null,
      "bottom": null,
      "display": null,
      "flex": null,
      "flex_flow": null,
      "grid_area": null,
      "grid_auto_columns": null,
      "grid_auto_flow": null,
      "grid_auto_rows": null,
      "grid_column": null,
      "grid_gap": null,
      "grid_row": null,
      "grid_template_areas": null,
      "grid_template_columns": null,
      "grid_template_rows": null,
      "height": null,
      "justify_content": null,
      "justify_items": null,
      "left": null,
      "margin": null,
      "max_height": null,
      "max_width": null,
      "min_height": null,
      "min_width": null,
      "object_fit": null,
      "object_position": null,
      "order": null,
      "overflow": null,
      "overflow_x": null,
      "overflow_y": null,
      "padding": null,
      "right": null,
      "top": null,
      "visibility": null,
      "width": null
     }
    },
    "78d0f20c68184870ad3f658d434907bb": {
     "model_module": "@jupyter-widgets/controls",
     "model_module_version": "1.5.0",
     "model_name": "DescriptionStyleModel",
     "state": {
      "_model_module": "@jupyter-widgets/controls",
      "_model_module_version": "1.5.0",
      "_model_name": "DescriptionStyleModel",
      "_view_count": null,
      "_view_module": "@jupyter-widgets/base",
      "_view_module_version": "1.2.0",
      "_view_name": "StyleView",
      "description_width": ""
     }
    },
    "7b6500d8edc94b86b57855f6bb2a0055": {
     "model_module": "@jupyter-widgets/controls",
     "model_module_version": "1.5.0",
     "model_name": "HTMLModel",
     "state": {
      "_dom_classes": [],
      "_model_module": "@jupyter-widgets/controls",
      "_model_module_version": "1.5.0",
      "_model_name": "HTMLModel",
      "_view_count": null,
      "_view_module": "@jupyter-widgets/controls",
      "_view_module_version": "1.5.0",
      "_view_name": "HTMLView",
      "description": "",
      "description_tooltip": null,
      "layout": "IPY_MODEL_023e95937b214f8b8bcde8e9efac78f7",
      "placeholder": "​",
      "style": "IPY_MODEL_78d0f20c68184870ad3f658d434907bb",
      "value": " 426/426 [00:00&lt;00:00, 2440.26it/s]"
     }
    },
    "7b815828e80d4ba69b00523b8f7fe78f": {
     "model_module": "@jupyter-widgets/controls",
     "model_module_version": "1.5.0",
     "model_name": "DescriptionStyleModel",
     "state": {
      "_model_module": "@jupyter-widgets/controls",
      "_model_module_version": "1.5.0",
      "_model_name": "DescriptionStyleModel",
      "_view_count": null,
      "_view_module": "@jupyter-widgets/base",
      "_view_module_version": "1.2.0",
      "_view_name": "StyleView",
      "description_width": ""
     }
    },
    "7e45896dc5564479ab71a9d3921abecc": {
     "model_module": "@jupyter-widgets/controls",
     "model_module_version": "1.5.0",
     "model_name": "ProgressStyleModel",
     "state": {
      "_model_module": "@jupyter-widgets/controls",
      "_model_module_version": "1.5.0",
      "_model_name": "ProgressStyleModel",
      "_view_count": null,
      "_view_module": "@jupyter-widgets/base",
      "_view_module_version": "1.2.0",
      "_view_name": "StyleView",
      "bar_color": null,
      "description_width": ""
     }
    },
    "853efd3fa5264812a14b910b87f92f1e": {
     "model_module": "@jupyter-widgets/controls",
     "model_module_version": "1.5.0",
     "model_name": "HTMLModel",
     "state": {
      "_dom_classes": [],
      "_model_module": "@jupyter-widgets/controls",
      "_model_module_version": "1.5.0",
      "_model_name": "HTMLModel",
      "_view_count": null,
      "_view_module": "@jupyter-widgets/controls",
      "_view_module_version": "1.5.0",
      "_view_name": "HTMLView",
      "description": "",
      "description_tooltip": null,
      "layout": "IPY_MODEL_a5154fa873a04e0fbd70ce00fac2f334",
      "placeholder": "​",
      "style": "IPY_MODEL_b23e68a3ad154f54bb904ee658d08060",
      "value": " 2486/2486 [00:27&lt;00:00, 115.27it/s]"
     }
    },
    "8edefe2e2649411ab713a1a9a559e04d": {
     "model_module": "@jupyter-widgets/controls",
     "model_module_version": "1.5.0",
     "model_name": "HTMLModel",
     "state": {
      "_dom_classes": [],
      "_model_module": "@jupyter-widgets/controls",
      "_model_module_version": "1.5.0",
      "_model_name": "HTMLModel",
      "_view_count": null,
      "_view_module": "@jupyter-widgets/controls",
      "_view_module_version": "1.5.0",
      "_view_name": "HTMLView",
      "description": "",
      "description_tooltip": null,
      "layout": "IPY_MODEL_61aa6bf1cda14c77b5e2f1daa0bd12c3",
      "placeholder": "​",
      "style": "IPY_MODEL_7b815828e80d4ba69b00523b8f7fe78f",
      "value": " 1704/1704 [00:00&lt;00:00, 3075.89it/s]"
     }
    },
    "93c9eca583a5458ca1ea46c4bc5e0a6f": {
     "model_module": "@jupyter-widgets/base",
     "model_module_version": "1.2.0",
     "model_name": "LayoutModel",
     "state": {
      "_model_module": "@jupyter-widgets/base",
      "_model_module_version": "1.2.0",
      "_model_name": "LayoutModel",
      "_view_count": null,
      "_view_module": "@jupyter-widgets/base",
      "_view_module_version": "1.2.0",
      "_view_name": "LayoutView",
      "align_content": null,
      "align_items": null,
      "align_self": null,
      "border": null,
      "bottom": null,
      "display": null,
      "flex": null,
      "flex_flow": null,
      "grid_area": null,
      "grid_auto_columns": null,
      "grid_auto_flow": null,
      "grid_auto_rows": null,
      "grid_column": null,
      "grid_gap": null,
      "grid_row": null,
      "grid_template_areas": null,
      "grid_template_columns": null,
      "grid_template_rows": null,
      "height": null,
      "justify_content": null,
      "justify_items": null,
      "left": null,
      "margin": null,
      "max_height": null,
      "max_width": null,
      "min_height": null,
      "min_width": null,
      "object_fit": null,
      "object_position": null,
      "order": null,
      "overflow": null,
      "overflow_x": null,
      "overflow_y": null,
      "padding": null,
      "right": null,
      "top": null,
      "visibility": null,
      "width": null
     }
    },
    "9517ca24459e45278fd9c762631ca6c4": {
     "model_module": "@jupyter-widgets/controls",
     "model_module_version": "1.5.0",
     "model_name": "FloatProgressModel",
     "state": {
      "_dom_classes": [],
      "_model_module": "@jupyter-widgets/controls",
      "_model_module_version": "1.5.0",
      "_model_name": "FloatProgressModel",
      "_view_count": null,
      "_view_module": "@jupyter-widgets/controls",
      "_view_module_version": "1.5.0",
      "_view_name": "ProgressView",
      "bar_style": "success",
      "description": "",
      "description_tooltip": null,
      "layout": "IPY_MODEL_93c9eca583a5458ca1ea46c4bc5e0a6f",
      "max": 2486,
      "min": 0,
      "orientation": "horizontal",
      "style": "IPY_MODEL_7e45896dc5564479ab71a9d3921abecc",
      "value": 2486
     }
    },
    "95ec1b9057b840ac9246339374d0662a": {
     "model_module": "@jupyter-widgets/base",
     "model_module_version": "1.2.0",
     "model_name": "LayoutModel",
     "state": {
      "_model_module": "@jupyter-widgets/base",
      "_model_module_version": "1.2.0",
      "_model_name": "LayoutModel",
      "_view_count": null,
      "_view_module": "@jupyter-widgets/base",
      "_view_module_version": "1.2.0",
      "_view_name": "LayoutView",
      "align_content": null,
      "align_items": null,
      "align_self": null,
      "border": null,
      "bottom": null,
      "display": null,
      "flex": null,
      "flex_flow": null,
      "grid_area": null,
      "grid_auto_columns": null,
      "grid_auto_flow": null,
      "grid_auto_rows": null,
      "grid_column": null,
      "grid_gap": null,
      "grid_row": null,
      "grid_template_areas": null,
      "grid_template_columns": null,
      "grid_template_rows": null,
      "height": null,
      "justify_content": null,
      "justify_items": null,
      "left": null,
      "margin": null,
      "max_height": null,
      "max_width": null,
      "min_height": null,
      "min_width": null,
      "object_fit": null,
      "object_position": null,
      "order": null,
      "overflow": null,
      "overflow_x": null,
      "overflow_y": null,
      "padding": null,
      "right": null,
      "top": null,
      "visibility": null,
      "width": null
     }
    },
    "9d4efdb5cb7f4df18286688b2c022992": {
     "model_module": "@jupyter-widgets/controls",
     "model_module_version": "1.5.0",
     "model_name": "FloatProgressModel",
     "state": {
      "_dom_classes": [],
      "_model_module": "@jupyter-widgets/controls",
      "_model_module_version": "1.5.0",
      "_model_name": "FloatProgressModel",
      "_view_count": null,
      "_view_module": "@jupyter-widgets/controls",
      "_view_module_version": "1.5.0",
      "_view_name": "ProgressView",
      "bar_style": "success",
      "description": "",
      "description_tooltip": null,
      "layout": "IPY_MODEL_d104a1af2b9540e1893e2447cd490f9e",
      "max": 10000000,
      "min": 0,
      "orientation": "horizontal",
      "style": "IPY_MODEL_a11315c794214550a2f66ad0525f3589",
      "value": 10000000
     }
    },
    "a11315c794214550a2f66ad0525f3589": {
     "model_module": "@jupyter-widgets/controls",
     "model_module_version": "1.5.0",
     "model_name": "ProgressStyleModel",
     "state": {
      "_model_module": "@jupyter-widgets/controls",
      "_model_module_version": "1.5.0",
      "_model_name": "ProgressStyleModel",
      "_view_count": null,
      "_view_module": "@jupyter-widgets/base",
      "_view_module_version": "1.2.0",
      "_view_name": "StyleView",
      "bar_color": null,
      "description_width": ""
     }
    },
    "a5154fa873a04e0fbd70ce00fac2f334": {
     "model_module": "@jupyter-widgets/base",
     "model_module_version": "1.2.0",
     "model_name": "LayoutModel",
     "state": {
      "_model_module": "@jupyter-widgets/base",
      "_model_module_version": "1.2.0",
      "_model_name": "LayoutModel",
      "_view_count": null,
      "_view_module": "@jupyter-widgets/base",
      "_view_module_version": "1.2.0",
      "_view_name": "LayoutView",
      "align_content": null,
      "align_items": null,
      "align_self": null,
      "border": null,
      "bottom": null,
      "display": null,
      "flex": null,
      "flex_flow": null,
      "grid_area": null,
      "grid_auto_columns": null,
      "grid_auto_flow": null,
      "grid_auto_rows": null,
      "grid_column": null,
      "grid_gap": null,
      "grid_row": null,
      "grid_template_areas": null,
      "grid_template_columns": null,
      "grid_template_rows": null,
      "height": null,
      "justify_content": null,
      "justify_items": null,
      "left": null,
      "margin": null,
      "max_height": null,
      "max_width": null,
      "min_height": null,
      "min_width": null,
      "object_fit": null,
      "object_position": null,
      "order": null,
      "overflow": null,
      "overflow_x": null,
      "overflow_y": null,
      "padding": null,
      "right": null,
      "top": null,
      "visibility": null,
      "width": null
     }
    },
    "aeb892bffc0d49a4ba25da625786b2ed": {
     "model_module": "@jupyter-widgets/base",
     "model_module_version": "1.2.0",
     "model_name": "LayoutModel",
     "state": {
      "_model_module": "@jupyter-widgets/base",
      "_model_module_version": "1.2.0",
      "_model_name": "LayoutModel",
      "_view_count": null,
      "_view_module": "@jupyter-widgets/base",
      "_view_module_version": "1.2.0",
      "_view_name": "LayoutView",
      "align_content": null,
      "align_items": null,
      "align_self": null,
      "border": null,
      "bottom": null,
      "display": null,
      "flex": null,
      "flex_flow": null,
      "grid_area": null,
      "grid_auto_columns": null,
      "grid_auto_flow": null,
      "grid_auto_rows": null,
      "grid_column": null,
      "grid_gap": null,
      "grid_row": null,
      "grid_template_areas": null,
      "grid_template_columns": null,
      "grid_template_rows": null,
      "height": null,
      "justify_content": null,
      "justify_items": null,
      "left": null,
      "margin": null,
      "max_height": null,
      "max_width": null,
      "min_height": null,
      "min_width": null,
      "object_fit": null,
      "object_position": null,
      "order": null,
      "overflow": null,
      "overflow_x": null,
      "overflow_y": null,
      "padding": null,
      "right": null,
      "top": null,
      "visibility": null,
      "width": null
     }
    },
    "b1f1e6041d9542f3b7669de98e15805e": {
     "model_module": "@jupyter-widgets/controls",
     "model_module_version": "1.5.0",
     "model_name": "HBoxModel",
     "state": {
      "_dom_classes": [],
      "_model_module": "@jupyter-widgets/controls",
      "_model_module_version": "1.5.0",
      "_model_name": "HBoxModel",
      "_view_count": null,
      "_view_module": "@jupyter-widgets/controls",
      "_view_module_version": "1.5.0",
      "_view_name": "HBoxView",
      "box_style": "",
      "children": [
       "IPY_MODEL_4f7274fb31244b2da23a4f8cc5c9d79f",
       "IPY_MODEL_e50adbfcc8e249dfa6ca8cc381283e44",
       "IPY_MODEL_8edefe2e2649411ab713a1a9a559e04d"
      ],
      "layout": "IPY_MODEL_95ec1b9057b840ac9246339374d0662a"
     }
    },
    "b23e68a3ad154f54bb904ee658d08060": {
     "model_module": "@jupyter-widgets/controls",
     "model_module_version": "1.5.0",
     "model_name": "DescriptionStyleModel",
     "state": {
      "_model_module": "@jupyter-widgets/controls",
      "_model_module_version": "1.5.0",
      "_model_name": "DescriptionStyleModel",
      "_view_count": null,
      "_view_module": "@jupyter-widgets/base",
      "_view_module_version": "1.2.0",
      "_view_name": "StyleView",
      "description_width": ""
     }
    },
    "ba4a63db04c2444da6546d2f158a75c2": {
     "model_module": "@jupyter-widgets/controls",
     "model_module_version": "1.5.0",
     "model_name": "HTMLModel",
     "state": {
      "_dom_classes": [],
      "_model_module": "@jupyter-widgets/controls",
      "_model_module_version": "1.5.0",
      "_model_name": "HTMLModel",
      "_view_count": null,
      "_view_module": "@jupyter-widgets/controls",
      "_view_module_version": "1.5.0",
      "_view_name": "HTMLView",
      "description": "",
      "description_tooltip": null,
      "layout": "IPY_MODEL_aeb892bffc0d49a4ba25da625786b2ed",
      "placeholder": "​",
      "style": "IPY_MODEL_5f3aaac60dca48fbae56f18cbdf55085",
      "value": "100%"
     }
    },
    "c443caab5c7146c0a216b70fdeeb1195": {
     "model_module": "@jupyter-widgets/controls",
     "model_module_version": "1.5.0",
     "model_name": "HTMLModel",
     "state": {
      "_dom_classes": [],
      "_model_module": "@jupyter-widgets/controls",
      "_model_module_version": "1.5.0",
      "_model_name": "HTMLModel",
      "_view_count": null,
      "_view_module": "@jupyter-widgets/controls",
      "_view_module_version": "1.5.0",
      "_view_name": "HTMLView",
      "description": "",
      "description_tooltip": null,
      "layout": "IPY_MODEL_0c17817ffd70498985f539f9b43dd370",
      "placeholder": "​",
      "style": "IPY_MODEL_1ce586e18b5f49f496d15b95124ba2a8",
      "value": "100%"
     }
    },
    "d104a1af2b9540e1893e2447cd490f9e": {
     "model_module": "@jupyter-widgets/base",
     "model_module_version": "1.2.0",
     "model_name": "LayoutModel",
     "state": {
      "_model_module": "@jupyter-widgets/base",
      "_model_module_version": "1.2.0",
      "_model_name": "LayoutModel",
      "_view_count": null,
      "_view_module": "@jupyter-widgets/base",
      "_view_module_version": "1.2.0",
      "_view_name": "LayoutView",
      "align_content": null,
      "align_items": null,
      "align_self": null,
      "border": null,
      "bottom": null,
      "display": null,
      "flex": null,
      "flex_flow": null,
      "grid_area": null,
      "grid_auto_columns": null,
      "grid_auto_flow": null,
      "grid_auto_rows": null,
      "grid_column": null,
      "grid_gap": null,
      "grid_row": null,
      "grid_template_areas": null,
      "grid_template_columns": null,
      "grid_template_rows": null,
      "height": null,
      "justify_content": null,
      "justify_items": null,
      "left": null,
      "margin": null,
      "max_height": null,
      "max_width": null,
      "min_height": null,
      "min_width": null,
      "object_fit": null,
      "object_position": null,
      "order": null,
      "overflow": null,
      "overflow_x": null,
      "overflow_y": null,
      "padding": null,
      "right": null,
      "top": null,
      "visibility": null,
      "width": null
     }
    },
    "e50adbfcc8e249dfa6ca8cc381283e44": {
     "model_module": "@jupyter-widgets/controls",
     "model_module_version": "1.5.0",
     "model_name": "FloatProgressModel",
     "state": {
      "_dom_classes": [],
      "_model_module": "@jupyter-widgets/controls",
      "_model_module_version": "1.5.0",
      "_model_name": "FloatProgressModel",
      "_view_count": null,
      "_view_module": "@jupyter-widgets/controls",
      "_view_module_version": "1.5.0",
      "_view_name": "ProgressView",
      "bar_style": "success",
      "description": "",
      "description_tooltip": null,
      "layout": "IPY_MODEL_1703fc44f5fb4fabaebc452f5633456a",
      "max": 1704,
      "min": 0,
      "orientation": "horizontal",
      "style": "IPY_MODEL_e948ff27e47743faacb921115d7913ca",
      "value": 1704
     }
    },
    "e8c9adfd770c4e99bb3282b1d9d7f5fd": {
     "model_module": "@jupyter-widgets/controls",
     "model_module_version": "1.5.0",
     "model_name": "HBoxModel",
     "state": {
      "_dom_classes": [],
      "_model_module": "@jupyter-widgets/controls",
      "_model_module_version": "1.5.0",
      "_model_name": "HBoxModel",
      "_view_count": null,
      "_view_module": "@jupyter-widgets/controls",
      "_view_module_version": "1.5.0",
      "_view_name": "HBoxView",
      "box_style": "",
      "children": [
       "IPY_MODEL_c443caab5c7146c0a216b70fdeeb1195",
       "IPY_MODEL_9d4efdb5cb7f4df18286688b2c022992",
       "IPY_MODEL_f06a0c09fca144fe8669727df6fef680"
      ],
      "layout": "IPY_MODEL_f8b6747761ec468299af1a41608ecb3d"
     }
    },
    "e948ff27e47743faacb921115d7913ca": {
     "model_module": "@jupyter-widgets/controls",
     "model_module_version": "1.5.0",
     "model_name": "ProgressStyleModel",
     "state": {
      "_model_module": "@jupyter-widgets/controls",
      "_model_module_version": "1.5.0",
      "_model_name": "ProgressStyleModel",
      "_view_count": null,
      "_view_module": "@jupyter-widgets/base",
      "_view_module_version": "1.2.0",
      "_view_name": "StyleView",
      "bar_color": null,
      "description_width": ""
     }
    },
    "f06a0c09fca144fe8669727df6fef680": {
     "model_module": "@jupyter-widgets/controls",
     "model_module_version": "1.5.0",
     "model_name": "HTMLModel",
     "state": {
      "_dom_classes": [],
      "_model_module": "@jupyter-widgets/controls",
      "_model_module_version": "1.5.0",
      "_model_name": "HTMLModel",
      "_view_count": null,
      "_view_module": "@jupyter-widgets/controls",
      "_view_module_version": "1.5.0",
      "_view_name": "HTMLView",
      "description": "",
      "description_tooltip": null,
      "layout": "IPY_MODEL_1974ef5cf6ac4c8ebf518fc3cfae1aeb",
      "placeholder": "​",
      "style": "IPY_MODEL_1cc863f2be0149409c85b6033d2c214a",
      "value": " 10000000/10000000 [00:03&lt;00:00, 2905377.12it/s]"
     }
    },
    "f8b6747761ec468299af1a41608ecb3d": {
     "model_module": "@jupyter-widgets/base",
     "model_module_version": "1.2.0",
     "model_name": "LayoutModel",
     "state": {
      "_model_module": "@jupyter-widgets/base",
      "_model_module_version": "1.2.0",
      "_model_name": "LayoutModel",
      "_view_count": null,
      "_view_module": "@jupyter-widgets/base",
      "_view_module_version": "1.2.0",
      "_view_name": "LayoutView",
      "align_content": null,
      "align_items": null,
      "align_self": null,
      "border": null,
      "bottom": null,
      "display": null,
      "flex": null,
      "flex_flow": null,
      "grid_area": null,
      "grid_auto_columns": null,
      "grid_auto_flow": null,
      "grid_auto_rows": null,
      "grid_column": null,
      "grid_gap": null,
      "grid_row": null,
      "grid_template_areas": null,
      "grid_template_columns": null,
      "grid_template_rows": null,
      "height": null,
      "justify_content": null,
      "justify_items": null,
      "left": null,
      "margin": null,
      "max_height": null,
      "max_width": null,
      "min_height": null,
      "min_width": null,
      "object_fit": null,
      "object_position": null,
      "order": null,
      "overflow": null,
      "overflow_x": null,
      "overflow_y": null,
      "padding": null,
      "right": null,
      "top": null,
      "visibility": null,
      "width": null
     }
    }
   }
  }
 },
 "nbformat": 4,
 "nbformat_minor": 4
}
